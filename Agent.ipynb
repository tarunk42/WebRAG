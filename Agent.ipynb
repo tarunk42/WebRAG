{
 "cells": [
  {
   "cell_type": "code",
   "execution_count": 83,
   "id": "49ac0937-0c95-4240-9389-3306377a570c",
   "metadata": {},
   "outputs": [
    {
     "name": "stdout",
     "output_type": "stream",
     "text": [
      "The sky appears blue because of a phenomenon called Rayleigh scattering, named after the British physicist Lord Rayleigh. He discovered that when sunlight enters Earth's atmosphere, it encounters tiny molecules of gases such as nitrogen (N2) and oxygen (O2). These molecules scatter the light in all directions, but they scatter shorter (blue) wavelengths more than longer (red) wavelengths.\n",
      "\n",
      "Here's a simplified explanation:\n",
      "\n",
      "1. **Sunlight enters the atmosphere**: The sun emits white light, which is made up of all the colors of the visible spectrum.\n",
      "2. **Light interacts with atmospheric molecules**: When sunlight hits the tiny molecules in the air, it scatters in all directions.\n",
      "3. **Molecules scatter shorter wavelengths more**: The smaller molecules (like nitrogen and oxygen) are more effective at scattering the shorter wavelengths of light, such as blue and violet.\n",
      "4. **Blue light is scattered in all directions**: As a result, the blue light is dispersed throughout the atmosphere, reaching our eyes from all parts of the sky.\n",
      "5. **Our eyes perceive the blue color**: When we look up at the sky, we see the scattered blue light, which gives the sky its characteristic blue color.\n",
      "\n",
      "The reason the sky isn't always blue is that other factors can affect the amount of sunlight that reaches our eyes:\n",
      "\n",
      "* **Atmospheric conditions**: Dust, pollution, and water vapor in the air can scatter light in different ways, changing the apparent color of the sky.\n",
      "* **Time of day**: During sunrise and sunset, the sun's rays have to travel through more of the atmosphere, which scatters the shorter wavelengths even more, making the sky appear red or orange.\n",
      "* **Clouds and weather**: Clouds can block or scatter sunlight, altering the apparent color of the sky.\n",
      "\n",
      "So, in summary, the sky appears blue because of the scattering of sunlight by tiny molecules in the Earth's atmosphere, with a preference for shorter (blue) wavelengths.\n",
      "The sky appears blue because of a phenomenon called Rayleigh scattering, named after the British physicist Lord Rayleigh. He discovered that when sunlight enters Earth's atmosphere, it encounters tiny molecules of gases such as nitrogen (N2) and oxygen (O2). These molecules scatter the light in all directions, but they scatter shorter (blue) wavelengths more than longer (red) wavelengths.\n",
      "\n",
      "Here's a simplified explanation:\n",
      "\n",
      "1. **Sunlight enters the atmosphere**: The sun emits white light, which is made up of all the colors of the visible spectrum.\n",
      "2. **Light interacts with atmospheric molecules**: When sunlight hits the tiny molecules in the air, it scatters in all directions.\n",
      "3. **Molecules scatter shorter wavelengths more**: The smaller molecules (like nitrogen and oxygen) are more effective at scattering the shorter wavelengths of light, such as blue and violet.\n",
      "4. **Blue light is scattered in all directions**: As a result, the blue light is dispersed throughout the atmosphere, reaching our eyes from all parts of the sky.\n",
      "5. **Our eyes perceive the blue color**: When we look up at the sky, we see the scattered blue light, which gives the sky its characteristic blue color.\n",
      "\n",
      "The reason the sky isn't always blue is that other factors can affect the amount of sunlight that reaches our eyes:\n",
      "\n",
      "* **Atmospheric conditions**: Dust, pollution, and water vapor in the air can scatter light in different ways, changing the apparent color of the sky.\n",
      "* **Time of day**: During sunrise and sunset, the sun's rays have to travel through more of the atmosphere, which scatters the shorter wavelengths even more, making the sky appear red or orange.\n",
      "* **Clouds and weather**: Clouds can block or scatter sunlight, altering the apparent color of the sky.\n",
      "\n",
      "So, in summary, the sky appears blue because of the scattering of sunlight by tiny molecules in the Earth's atmosphere, with a preference for shorter (blue) wavelengths.\n"
     ]
    }
   ],
   "source": [
    "# from ollama import chat\n",
    "# from ollama import ChatResponse\n",
    "\n",
    "# response: ChatResponse = chat(model='llama3.2:3b-instruct-q8_0', options= {\"temperature\":0.1}, messages=[\n",
    "#   {\n",
    "#     'role': 'user',\n",
    "#     'content': 'Why is the sky blue?',\n",
    "#   },\n",
    "# ])\n",
    "# print(response['message']['content'])\n",
    "# # or access fields directly from the response object\n",
    "# print(response.message.content)"
   ]
  },
  {
   "cell_type": "code",
   "execution_count": 13,
   "id": "35d1dc28-ef47-44cf-9f29-a1a6104f6033",
   "metadata": {},
   "outputs": [],
   "source": [
    "# from ollama import chat\n",
    "\n",
    "# stream = chat(\n",
    "#     model='llama3.2:3b-instruct-q8_0',\n",
    "#     messages=[{'role': 'user', 'content': 'Why is the sky blue?'}],\n",
    "#     stream=True,\n",
    "# )\n",
    "\n",
    "# for chunk in stream:\n",
    "#   print(chunk['message']['content'], end='', flush=True)"
   ]
  },
  {
   "cell_type": "code",
   "execution_count": 166,
   "id": "64fda29f-08e5-4d52-8726-075b7c8bf528",
   "metadata": {},
   "outputs": [],
   "source": [
    "import json\n",
    "\n",
    "# Load the JSON file\n",
    "with open('page_test11.json', 'r') as file:\n",
    "    data = json.load(file)\n",
    "\n",
    "# Extract a single page entry for demonstration\n",
    "single_page = data[11]  # Example: Access the third page in the list"
   ]
  },
  {
   "cell_type": "code",
   "execution_count": 167,
   "id": "05f052e9-fdd9-49e7-b5bc-6d080a51f831",
   "metadata": {},
   "outputs": [
    {
     "data": {
      "text/plain": [
       "12"
      ]
     },
     "execution_count": 167,
     "metadata": {},
     "output_type": "execute_result"
    }
   ],
   "source": [
    "len(data)"
   ]
  },
  {
   "cell_type": "code",
   "execution_count": 168,
   "id": "cdd55f1b-342d-4c3a-974a-6a56a70f6ef5",
   "metadata": {},
   "outputs": [
    {
     "data": {
      "text/plain": [
       "{'url': 'https://x.com/theskindoctor13/following',\n",
       " 'title': '(13) People followed by THE SKIN DOCTOR (@theskindoctor13) / X',\n",
       " 'text': 'Messages\\nHome\\nExplore\\n13\\nNotifications\\nMessages\\nGrok\\nCommunities\\nPremium\\nProfile\\nMore\\nPost\\ntarun kashyap\\n@tarunk42\\nTHE SKIN DOCTOR\\n@theskindoctor13\\nVerified Followers\\nFollowers\\nFollowing\\nFollowing\\nFacts\\n@BefittingFacts\\nFollow\\nFACTS: Facts Authentic Clumsy Troll Sarcasm\\nRishi Bagree\\n@rishibagree\\nFollow\\nAn Ordinary Tax paying Citizen || rishibagree@gmail.com\\nmaithun\\n@Being_Humor\\nFollow\\nShefali Vaidya.\\n@ShefVaidya\\nFollow\\nAuthor, Speaker. Fellow-Ananta Leadership Program, BORI-Infosys Fellow, Convenor-Indic Academy. Love Travel, Temples And Textiles. #NoBindiNoBusiness\\ndesi mojito\\n@desimojito\\nFollow\\nNews l Astrologer l Stock Market Expert | Sarcasm l Politics l Humour l Activist l Feminist l Cricket l Environmentalist l\\nNupur J Sharma\\n@UnSubtleDesi\\nFollow\\nAccidental journalist. Editor-in-Chief, OpIndia. nupur@opindia.com\\nRahul Roushan\\n@rahulroushan\\nFollow\\nA well-known expert on nothing. Opinions totally personal. RTs, sometimes even my own tweets, not endorsement. #Sarcasm. As unbiased as any popular journalist.\\nKeh Ke Peheno\\n@coolfunnytshirt\\nFollow\\nYou came. You saw. You followed. You unfollowed. I never existed.\\nMajor Surendra Poonia\\n@MajorPoonia\\nFollow\\nBharat | Soldier | Physician | Committed to ‘The Mission Fit Bharat ’ | Belief - Hinduism is Nationalism ; धर्म और राष्ट्र सर्वोपरी हैं | RSS\\nShiv Aroor\\n@ShivAroor\\nFollow\\nJournalist,\\n@IndiaToday\\n| Founder,\\n@Livefist\\n| Author of the #IndiasMostFearless series\\nThe Hawk Eye\\n@thehawkeyex\\nFollow\\n| Tweets on almost everything | • Curious • Threader • OSINT • Views personal • RTs ≠ endorsement\\nVijay Patel\\n@vijaygajera\\nFollow\\nBharat First | Bhakt Of Mahadev | Proud Hindu | Activist | Investigative Reporter | Son of Farmer | Founder\\n@onlyfactindia\\n|\\nShambhav Sharma\\n@shambhav15\\nFollow\\nMagadh Enjoyer. Creator: The Sham Sharma Show - Explaining India While Trying To Have Fun Along The Way. Inquiries and Feedback: contact@shamsharmashow.com\\nYo Yo Funny Singh\\n@moronhumor\\nFollow\\nManmaniye Wit Mantri of Bharat\\nSUDHIR\\n@seriousfunnyguy\\nFollow\\nजाने कितने झूले फाँसी पर, कितनो ने गोली खाई, क्यों झूठ बोलते हो, चरखे ने आजादी दिलाई | Sarcasm| Golf | Humour | Humanitarian | Real | yourstrulysudhir@gmail.com\\nRaja Babu\\n@GaurangBhardwa1\\nFollow\\nCricket • Bollywood • Memes | Parody. Memento mori!\\nDr Sumita Misra IAS\\n@sumitamisra\\nFollow\\nACS Food, & Med Education Haryana/Lucknawi/poet/Chair CLS.Books-Waqt ke Ujale May,A Life of Light, Zara si Dhoop,Petrichor, Lamhon ki Shabnam Personal a/c.\\nAadarsh Liberal\\n@AadarshLiberal_\\nFollow\\nA group of young people making videos to spark some social consciousness. Please donate to help us sustain. UPI : helprakesh@upi\\nSmita Sabharwal\\n@SmitaSabharwal\\nFollow\\nIAS Officer | Army Brat\\nĀryā_Anvikṣā\\n@Arya_Anviksha_\\nFollow\\nCurating History, Arts, Politics & Hindu rights. Not against Any Community, Caste & creed\\nTrending now\\nWhat’s happening\\nPelicans at Heat\\nNBA\\n·\\nLIVE\\nMusic · Trending\\nSnow Patrol\\nPolitics · Trending\\n#StarmerOut\\n5,597 posts\\nTrending in United Kingdom\\nSpaceX\\nTrending with NASA, #Starship\\nTrending in United Kingdom\\n#ElonMusk\\n25.2K posts\\nShow more\\nWho to follow\\nNB\\n@qbiryani\\nFollow\\nThe Tax Adviser\\n@TheTaxAdviser\\nFollow\\nAK\\n@_akhaliq\\nFollow\\nShow more\\nTerms of Service\\nPrivacy Policy\\nCookie Policy\\nAccessibility\\nAds info\\nMore\\n© 2024 X Corp.',\n",
       " 'capture_time': '2024-10-13 22:21:15',\n",
       " 'search_query': 'No search query'}"
      ]
     },
     "execution_count": 168,
     "metadata": {},
     "output_type": "execute_result"
    }
   ],
   "source": [
    "data[11]"
   ]
  },
  {
   "cell_type": "code",
   "execution_count": 64,
   "id": "f7b06664-26bd-46d9-b275-28593eb4c0bf",
   "metadata": {},
   "outputs": [],
   "source": [
    "# # Clean and structure the data\n",
    "# processed_data = {\n",
    "#     \"url\": single_page.get(\"url\", \"\"),\n",
    "#     \"title\": single_page.get(\"title\", \"\"),\n",
    "#     \"text\": single_page.get(\"text\", \"\")\n",
    "# }\n",
    "\n",
    "# # Convert to a prompt for the LLM\n",
    "# # prompt = f\"\"\"\n",
    "# # URL: {processed_data['url']}\n",
    "# # Title: {processed_data['title']}\n",
    "# # Text Content: {processed_data['text']}\n",
    "# # Please provide a detailed summary and key insights.\n",
    "# # \"\"\"\n",
    "\n",
    "# prompt = f\"\"\"\n",
    "# The following is extracted data from a webpage:\n",
    "\n",
    "# URL: {processed_data['url']}\n",
    "# Title: {processed_data['title']}\n",
    "# Text Content: {processed_data['text']}\n",
    "\n",
    "# Task:\n",
    "# 1. Extract key information directly mentioned in the text, avoiding assumptions or unrelated additions.\n",
    "# 2. DO NOT ADD summary\n",
    "\n",
    "# Format your response as:\n",
    "# - **Products Details**: [List all the products and their information available in the text]\n",
    "# \"\"\""
   ]
  },
  {
   "cell_type": "code",
   "execution_count": 136,
   "id": "09f9143b-1009-4619-81ca-4d552ac0961c",
   "metadata": {},
   "outputs": [
    {
     "data": {
      "text/plain": [
       "{'url': 'https://www.amazon.com/s?k=headphones&crid=D743LS797KE9&sprefix=headphones%2Caps%2C169&ref=nb_sb_noss_1',\n",
       " 'title': 'Amazon.com : headphones',\n",
       " 'text': 'Skip to main content\\nDeliver to\\nUnited Kingdom\\nAll\\nAll Departments\\nArts & Crafts\\nAutomotive\\nBaby\\nBeauty & Personal Care\\nBooks\\nBoys\\' Fashion\\nComputers\\nDeals\\nDigital Music\\nElectronics\\nGirls\\' Fashion\\nHealth & Household\\nHome & Kitchen\\nIndustrial & Scientific\\nKindle Store\\nLuggage\\nMen\\'s Fashion\\nMovies & TV\\nMusic, CDs & Vinyl\\nPet Supplies\\nPrime Video\\nSoftware\\nSports & Outdoors\\nTools & Home Improvement\\nToys & Games\\nVideo Games\\nWomen\\'s Fashion\\nEN\\nHello, sign in\\nAccount & Lists\\nReturns\\n& Orders\\n0\\nCart\\nWe\\'re showing you items that ship to United Kingdom. To see items that ship to a different country, change your delivery address.\\nDismiss\\nChange Address\\nAll\\nToday\\'s Deals\\nCustomer Service\\nRegistry\\nGift Cards\\nSell\\n1-16 of over 60,000 results for \"headphones\"\\nSort by:\\n        \\n            Featured\\n        \\n            Price: Low to High\\n        \\n            Price: High to Low\\n        \\n            Avg. Customer Review\\n        \\n            Newest Arrivals\\n        \\n            Best Sellers\\n        \\n    Sort by:Featured\\nResults\\nCheck each product page for other buying options.\\nFeatured from Amazon brands\\nAmazon Echo Buds (newest model), True Wireless Bluetooth 5.2 Earbuds with Alexa, audio personalization, multipoint, 20H battery with charging case, fast charging, sweat resistant, Black\\n9,960\\n10K+ bought in past month\\n1 sustainability feature\\nSee options\\n+1 colors/patterns\\nFeatured from Amazon brands\\nAmazon Echo Buds with Active Noise Cancellation (newest model), Wireless earbuds with active noise cancellation and Alexa, Wireless charging case, Glacier White\\n896\\n500+ bought in past month\\n1 sustainability feature\\nSee options\\nOverall Pick\\n\\n\\nJBL Tune 510BT - Bluetooth headphones with up to 40 hours battery, microphone for call, foldable and comfortable, Android and iOs compatible (Black)\\n67,412\\n10K+ bought in past month\\nSee options\\nNo featured offers available\\n$26.99(10 used & new offers)\\nBeats Studio Pro - Wireless Bluetooth Noise Cancelling Headphones - Personalized Spatial Audio, USB-C Lossless Audio, Apple & Android Compatibility, Up to 40 Hours Battery Life - Deep Brown\\n13,557\\n10K+ bought in past month\\nSee options\\nNo featured offers available\\n$187.35(3 used & new offers)\\n+2\\nJBL Live 460NC wireless on-ear Noise Cancelling headphones with 50H battery, microphone for calls, lightweight and comfortable, and Alexa Built-in (Optimized for Android), iOS compatible (Black)\\n6,499\\n5K+ bought in past month\\nSee options\\nNo featured offers available\\n$49.95(8 used & new offers)\\nCustomers frequently viewed\\nSponsored\\n+6 colors/patterns\\nBose QuietComfort Bluetooth Headphones, Wireless Headphones, Over Ear Noise Cancelling Headphones with Mic, Up to 24 Hours of Battery Life, Blue Dusk - Limited Edition Color\\n6,724\\n10K+ bought in past month\\n+4 colors/patterns\\nBose QuietComfort Ultra Bluetooth Headphones, Wireless Headphones with Spatial Audio, Over Ear Noise Cancelling Headphones with Mic, Up to 24 Hours of Battery Life, Diamond - 60th Anniversary Edition\\n4,450\\n6K+ bought in past month\\n$349\\n00 List:\\n$429.00\\n+1 colors/patterns\\nEarbuds Headphones with Microphone Pack of 5, Noise Isolating Wired Earbuds, Earphones with Powerful Heavy Bass Stereo, Compatible with Android, Phone, Laptops, MP3 and Most 3.5mm Interface\\n6,087\\n3K+ bought in past month\\n$13\\n99 List:\\n$17.99\\nJoin Prime to buy this item at $10.99\\n+2 colors/patterns\\nBERIBES Upgraded Hybrid Active Noise Cancelling Headphones with Transparent Modes,70H Playtime Bluetooth Headphones Wireless Bluetooth with Mic, Deep Bass,3.5MM Cable,Soft-Earpads,Fast Charging-Black\\n3,725\\n3K+ bought in past month\\n$32\\n99\\nSave $3.00 with coupon\\nSponsored\\nTrue Wireless Bone Conduction Headphones, OWS Open Ear Design with Earhooks, Bluetooth 5.3, Up to 60H Playtime with Case, IP68, AAC/SBC, for Cycling,Yoga, and Workouts\\n418\\n2K+ bought in past month\\n$79\\n99 List:\\n$129.99\\nSave $10.00 with coupon\\nDelivery Thu, Dec 19\\nOr fastest delivery Mon, Dec 16\\nMore results\\nSony WH-CH720N Noise Canceling Wireless Headphones Bluetooth Over The Ear Headset with Microphone and Alexa Built-in, Black New\\n7,791\\n10K+ bought in past month\\nClick to see price\\nDelivery Thu, Dec 19\\nShips to United Kingdom\\nAlexa Built-in\\nAdd to cart\\nFeatured from Amazon brands\\nAmazon Echo Buds with Active Noise Cancellation (newest model), Wired charging case, Glacier White\\n19,244\\n10K+ bought in past month\\n1 sustainability feature\\nSee options\\n+1 colors/patterns\\nBose QuietComfort Bluetooth Headphones, Wireless Headphones, Over Ear Noise Cancelling Headphones with Mic, Up To 24 Hours of Battery Life, White Smoke\\n6,724\\n10K+ bought in past month\\nSee options\\nNo featured offers available\\n$196.00(15 used & new offers)\\n+1\\nJBL Tune 520BT - Wireless On-Ear Headphones, Up to 57H Battery Life and Speed Charge, Lightweight, Comfortable and Foldable Design, Hands-Free Calls with Voice Aware (Purple)\\n2,408\\n10K+ bought in past month\\n$34\\n95 List:\\n$49.95\\nDelivery Thu, Dec 19\\nShips to United Kingdom\\nAdd to cart\\nMore Buying Choices\\n$24.99(3+ used & new offers)\\nJBL Tune 770NC - Adaptive Noise Cancelling with Smart Ambient Wireless Over-Ear Headphones, Bluetooth 5.3, Up to 70H Battery Life with Speed Charge, Lightweight, Comfortable & Foldable Design (Black)\\n1,016\\n10K+ bought in past month\\nSee options\\nNo featured offers available\\n$76.97(4 used & new offers)\\nSony WH-1000XM4 Wireless Premium Noise Canceling Overhead Headphones with Mic for Phone-Call and Alexa Voice Control, Black WH1000XM4\\n58,357\\n10K+ bought in past month\\n$198\\n00 List:\\n$348.00\\nDelivery Fri, Dec 20\\nShips to United Kingdom\\nOnly 19 left in stock - order soon.\\nAlexa Built-in\\nAdd to cart\\nMore Buying Choices\\n$174.99(8+ used & new offers)\\nFeatured from Amazon brands\\nAmazon Echo Buds with Active Noise Cancellation (newest model), Wireless charging case, Black\\n2,821\\n2K+ bought in past month\\n1 sustainability feature\\nSee options\\nSony WH-CH520 Wireless Headphones Bluetooth On-Ear Headset with Microphone, Black New\\n16,222\\n10K+ bought in past month\\nClick to see price\\nDelivery Thu, Dec 19\\nShips to United Kingdom\\nAdd to cart\\nBERIBES Bluetooth Headphones Over Ear, 65H Playtime and 6 EQ Music Modes Wireless Headphones with Microphone, HiFi Stereo Foldable Lightweight Headset, Deep Bass for Home Office Cellphone PC Ect.\\n33,438\\n10K+ bought in past month\\n$26\\n99\\nDelivery Thu, Dec 19\\nShips to United Kingdom\\nAdd to cart\\nMore Buying Choices\\n$25.91(2+ used & new offers)\\nSoundcore Anker Life Q20 Hybrid Active Noise Cancelling Headphones, Wireless Over Ear Bluetooth Headphones, 60H Playtime, Hi-Res Audio, Deep Bass, Memory Foam Ear Cups, for Travel, Home Office\\n82,657\\n10K+ bought in past month\\n$49\\n99 List:\\n$59.99\\nDelivery Thu, Dec 19\\nShips to United Kingdom\\n4 sustainability features\\nAdd to cart\\nMore Buying Choices\\n$49.49(3 used & new offers)\\nJBL Tune 760NC - Wireless Over-ear Noise Cancelling headphones, JBL Pure Bass Sound, Voice Assist, Google Fast Pair, Up to 50Hrs of Battery with ANC off, Lightweight and foldable design (Black)\\n3,135\\n4K+ bought in past month\\nSee options\\nNo featured offers available\\n$64.99(5 used & new offers)\\n+3 colors/patterns\\nSponsored\\nEarbuds Headphones with Microphone Pack of 5, Noise Isolating Wired Earbuds, Earphones with Powerful Heavy Bass Stereo, Compatible with Android, Phone, Laptops, MP3 and Most 3.5mm Interface\\n6,087\\n3K+ bought in past month\\n$13\\n99 List:\\n$17.99\\nDelivery Thu, Dec 19\\nShips to United Kingdom\\nAdd to cart\\n+1 colors/patterns\\nSkullcandy Hesh Evo Wireless Headphones with Charging Cable, 36 Hr Battery, Microphone, Works with iPhone Android and Bluetooth Devices - True Black\\n736\\n7K+ bought in past month\\n$49\\n88 List:\\n$104.99\\n$8.43 delivery\\nShips to United Kingdom\\nAdd to cart\\nMore Buying Choices\\n$49.38(8+ used & new offers)\\nSoundcore by Anker Q20i Hybrid Active Noise Cancelling Headphones, Wireless Over-Ear Bluetooth, 40H Long ANC Playtime, Hi-Res Audio, Big Bass, Customize via an App, Transparency Mode (White)\\n19,624\\n6K+ bought in past month\\n$49\\n99 List:\\n$69.99\\n$8.17 delivery\\nShips to United Kingdom\\n4 sustainability features\\nAdd to cart\\nActive Noise Cancelling Headphones,80H Playtime Bluetooth Wireless Headphones Over Ear with Microphone,Headphones Wireless Bluetooth with Deep Bass Headset for Adults,TV,Travel,Home,Office,Gym\\n451\\n200+ bought in past month\\n$11\\n99 Typical:\\n$39.99\\nDelivery Thu, Dec 19\\nShips to United Kingdom\\nAdd to cart\\nBeats Studio Buds - True Wireless Noise Cancelling Earbuds - Compatible with Apple & Android, Built-in Microphone, IPX4 Rating, Sweat Resistant Earphones, Class 1 Bluetooth Headphones - Black\\n79,724\\n10K+ bought in past month\\nSee options\\nNo featured offers available\\n$69.50(3 used & new offers)\\nSponsored\\nWired Over Ear Headphones, Studio Monitor & Mixing DJ Headphones with 50mm Neodymium Drivers and 1/4 to 3.5mm Jack for Guitar AMP Podcast Piano Keyboard (Black)\\n#1 Top Rated\\n627\\n3K+ bought in past month\\n$23\\n99 List:\\n$38.59\\nDelivery Thu, Dec 19\\nShips to United Kingdom\\n1 sustainability feature\\nSee options\\n+1 colors/patterns\\nSponsored\\nTrue Wireless Bone Conduction Headphones, OWS Open Ear Design with Earhooks, Bluetooth 5.3, Up to 60H Playtime with Case, IP68, AAC/SBC, for Cycling,Yoga, and Workouts\\n418\\n2K+ bought in past month\\n$79\\n99 List:\\n$129.99\\nSave $10.00 with coupon\\nDelivery Thu, Dec 19\\nOr fastest delivery Mon, Dec 16\\nRelated searches\\nheadphones wireless bluetooth\\nheadphones bluetooth\\nheadphones for school\\nsony headphones\\nheadphones wired\\nheadphones for kids\\nPrevious123...20Next\\nBrands related to your search\\nSponsored\\nPause for nothing. Hear everything.\\nCheer from ear to ear\\nDiscover the world of Pixel\\nNeed help?\\nVisit the help section or contact us\\nSponsored\\nPopular Shopping Ideas\\nWireless\\nBluetooth\\nBone Conduction\\nAnimal\\nSee more\\nMore-sustainable Products\\nClimate Pledge Friendly\\nDepartment\\nElectronics\\nOver-Ear Headphones\\nOn-Ear Headphones\\nEarbud & In-Ear Headphones\\nOpen-Ear Headphones\\nCustomer Reviews\\n& Up\\nBrands\\nJBL\\nSony\\nBose\\nSkullcandy\\nApple\\nJLab\\nSoundcore\\nSee more\\nAll Top Brands\\nTop Brands\\nPrice\\n$0\\n–\\n$3,200+\\nGo\\nDeals & Discounts\\nAll Discounts\\nToday\\'s Deals\\nCondition\\nNew\\nRenewed\\nUsed\\nHeadphones Connectivity Technology\\nWired\\nWireless\\nColor\\nHeadphone Wireless Type\\nBluetooth\\nInfrared\\nNFC\\nRF\\nCompatible Devices\\nCar Audio Systems\\nCellphones\\nDesktops\\nGaming Consoles\\nLaptops\\nMusic Production Equipment\\nTablets\\nSee more\\nNoise Control\\nActive Noise Cancellation\\nPassive Noise Cancellation\\nAdaptive Noise Cancellation\\nHybrid Noise Cancellation\\nNone\\nSound Isolation\\nHeadphones Jack\\n2.5 mm Jack\\n3.5 mm Jack\\n6.35 mm Jack\\nHeadphone Feature\\nDJ Style\\nFoldable\\nLightweight\\nMicrophone\\nPhone Control\\nSports & Exercise\\nTangle-Free Cord\\nVolume Control\\nWireless\\nHeadphones Age Range Description\\nKid\\nAdult\\nTeen\\nHeadphones Recommended Use\\nAudio Monitoring\\nCalling\\nCycling\\nDisc Jockey Use\\nExercising\\nGaming\\nMotorcycling\\nRecording\\nRunning\\nSkateboarding\\nSnowboarding\\nSwimming\\nCable Feature\\nDetachable\\nRetractable\\nTangle Free\\nWithout Cable\\nIncluded Components\\nCable\\nCharging Station\\nEar Cushions\\nEartip\\nHeadband\\nProtective Case\\nUser Manual\\nWireless Charging Case\\nWater Resistance Level\\nNot Water Resistant\\nWater-Resistant\\nWaterproof\\nControl Type\\nAlexa\\nApp Control\\nButton Control\\nCall Control\\nGoogle Assistant\\nMedia Control\\nNoise Control\\nSiri\\nTouch Control\\nVoice Control\\nVolume Control\\nFrom Our Brands\\nAmazon Brands\\nHeadphones Earpiece Shape\\nBud\\nCircle\\nHook\\nOval\\nStick\\nBattery Charge Time\\nUp to 1 h\\n1 to 1.9 h\\n2 to 2.9 h\\n3 h & above\\nSpecific Uses\\nBusiness\\nEntertainment\\nFitness\\nGaming\\nProfessional\\nSchool\\nSleeping\\nTravel\\nAudio Driver Type\\nBalanced Armature Driver\\nBone Conduction Driver\\nDynamic Driver\\nElectrostatic Driver\\nHybrid Driver\\nPiezoelectric Driver\\nPlanar Magnetic Driver\\nUnit Count\\n1\\n2\\n3 & above\\nImpedance\\nUp to 1\\n1 to 1.9\\n2 to 2.9\\n3 & above\\nAmazon Certified\\nWorks with Alexa\\nSeller\\nMoraLena\\nEssential Contraptions\\nSee more\\nSponsored\\n\\n\\nBack to top\\nGet to Know Us\\nCareers\\nBlog\\nAbout Amazon\\nInvestor Relations\\nAmazon Devices\\nAmazon Science\\nMake Money with Us\\nSell products on Amazon\\nSell on Amazon Business\\nSell apps on Amazon\\nBecome an Affiliate\\nAdvertise Your Products\\nSelf-Publish with Us\\nHost an Amazon Hub\\n›See More Make Money with Us\\nAmazon Payment Products\\nAmazon Business Card\\nShop with Points\\nReload Your Balance\\nAmazon Currency Converter\\nLet Us Help You\\nAmazon and COVID-19\\nYour Account\\nYour Orders\\nShipping Rates & Policies\\nReturns & Replacements\\nManage Your Content and Devices\\nHelp\\nEnglish $USD - U.S. Dollar United States\\nAmazon Music\\nStream millions\\nof songs Amazon Ads\\nReach customers\\nwherever they\\nspend their time 6pm\\nScore deals\\non fashion brands AbeBooks\\nBooks, art\\n& collectibles ACX\\nAudiobook Publishing\\nMade Easy Sell on Amazon\\nStart a Selling Account Veeqo\\nShipping Software\\nInventory Management\\n  Amazon Business\\nEverything For\\nYour Business AmazonGlobal\\nShip Orders\\nInternationally Home Services\\nExperienced Pros\\nHappiness Guarantee Amazon Web Services\\nScalable Cloud\\nComputing Services Audible\\nListen to Books & Original\\nAudio Performances Box Office Mojo\\nFind Movie\\nBox Office Data Goodreads\\nBook reviews\\n& recommendations\\n  IMDb\\nMovies, TV\\n& Celebrities IMDbPro\\nGet Info Entertainment\\nProfessionals Need Kindle Direct Publishing\\nIndie Digital & Print Publishing\\nMade Easy Prime Video Direct\\nVideo Distribution\\nMade Easy Shopbop\\nDesigner\\nFashion Brands Woot!\\nDeals and\\nShenanigans Zappos\\nShoes &\\nClothing\\n  Ring\\nSmart Home\\nSecurity Systems eero WiFi\\nStream 4K Video\\nin Every Room Blink\\nSmart Security\\nfor Every Home Neighbors App\\nReal-Time Crime\\n& Safety Alerts Amazon Subscription Boxes\\nTop subscription boxes – right to your door PillPack\\nPharmacy Simplified  \\nConditions of Use\\nPrivacy Notice\\nConsumer Health Data Privacy Disclosure\\nYour Ads Privacy Choices\\n© 1996-2024, Amazon.com, Inc. or its affiliates',\n",
       " 'capture_time': '2024-12-07 18:13:28',\n",
       " 'search_query': 'headphones'}"
      ]
     },
     "execution_count": 136,
     "metadata": {},
     "output_type": "execute_result"
    }
   ],
   "source": [
    "data[4]"
   ]
  },
  {
   "cell_type": "code",
   "execution_count": 169,
   "id": "2cb67112-4a4b-4e31-acef-ae2ce68358d1",
   "metadata": {},
   "outputs": [],
   "source": [
    "# Clean and structure the data\n",
    "processed_data = {\n",
    "    \"url\": single_page.get(\"url\", \"\"),\n",
    "    \"title\": single_page.get(\"title\", \"\"),\n",
    "    \"text\": single_page.get(\"text\", \"\")\n",
    "}\n",
    "\n",
    "# Convert to a prompt for the LLM\n",
    "# prompt = f\"\"\"\n",
    "# URL: {processed_data['url']}\n",
    "# Title: {processed_data['title']}\n",
    "# Text Content: {processed_data['text']}\n",
    "# Please provide a detailed summary and key insights.\n",
    "# \"\"\"\n",
    "\n",
    "prompt = f\"\"\"\n",
    "The following is extracted data from a webpage:\n",
    "\n",
    "URL: {processed_data['url']}\n",
    "Title: {processed_data['title']}\n",
    "Text Content: {processed_data['text']}\n",
    "\n",
    "Task:\n",
    "1. Extract key information directly mentioned in the text, avoiding assumptions or unrelated additions.\n",
    "2. DO NOT ADD summary\n",
    "3. DO NOT exclude the name of the product.\n",
    "\n",
    "Format your response as (In a markdown format, use divider to separate different items):\n",
    "- **Products Details**: [List all the products and their information available in the text]\n",
    "\"\"\""
   ]
  },
  {
   "cell_type": "code",
   "execution_count": null,
   "id": "6dcd07b8-81b4-4160-82dd-3b20778028de",
   "metadata": {},
   "outputs": [],
   "source": []
  },
  {
   "cell_type": "code",
   "execution_count": 170,
   "id": "5eaef194-0639-47e7-9c0c-84a2c2cd5e8e",
   "metadata": {
    "scrolled": true
   },
   "outputs": [
    {
     "name": "stdout",
     "output_type": "stream",
     "text": [
      "- **Verified Followers**\n",
      "  - tarun kashyap @tarunk42\n",
      "  - Facts @BefittingFacts\n",
      "  - Rishi Bagree @rishibagree\n",
      "  - maithun @Being_Humor\n",
      "  - Shefali Vaidya @ShefVaidya\n",
      "  - desi mojito @desimojito\n",
      "  - Nupur J Sharma @UnSubtleDesi\n",
      "  - Rahul Roushan @rahulroushan\n",
      "  - Keh Ke Peheno @coolfunnytshirt\n",
      "  - Major Surendra Poonia @MajorPoonia\n",
      "  - Shiv Aroor @ShivAroor\n",
      "  - The Hawk Eye @thehawkeyex\n",
      "  - Vijay Patel @vijaygajera\n",
      "  - Shambhav Sharma @shambhav15\n",
      "  - Yo Yo Funny Singh @moronhumor\n",
      "  - SUDHIR @seriousfunnyguy\n",
      "  - Raja Babu @GaurangBhardwa1\n",
      "  - Dr Sumita Misra IAS @sumitamisra\n",
      "  - Aadarsh Liberal @AadarshLiberal_\n",
      "  - Smita Sabharwal @SmitaSabharwal\n",
      "  - Āryā_Anvikṣā @Arya_Anviksha_"
     ]
    }
   ],
   "source": [
    "from ollama import chat\n",
    "\n",
    "stream = chat(\n",
    "    model='llama3.2:3b-instruct-q8_0',\n",
    "    # options = {'temperature': 0.5},\n",
    "    messages=[{'role': 'user', 'content': prompt}],\n",
    "    stream=True,\n",
    ")\n",
    "\n",
    "for chunk in stream:\n",
    "  print(chunk['message']['content'], end='', flush=True)"
   ]
  },
  {
   "cell_type": "markdown",
   "id": "a33e81fe-fa84-4676-a90c-9c61d90f02c7",
   "metadata": {},
   "source": [
    "## Step 2"
   ]
  },
  {
   "cell_type": "code",
   "execution_count": 171,
   "id": "f3ab97d7-7f3d-41d0-81df-d14c62a7cab3",
   "metadata": {},
   "outputs": [
    {
     "name": "stdout",
     "output_type": "stream",
     "text": [
      "- **Verified Followers**\n",
      "  - tarun kashyap\n",
      "  - Rishi Bagree\n",
      "  - Shefali Vaidya.\n",
      "  - desi mojito\n",
      "  - Nupur J Sharma\n",
      "  - Rahul Roushan\n",
      "  - Keh Ke Peheno\n",
      "  - Major Surendra Poonia\n",
      "  - Shiv Aroor\n",
      "  - The Hawk Eye\n",
      "  - Vijay Patel\n",
      "  - SUDHIR\n",
      "  - Yo Yo Funny Singh\n"
     ]
    }
   ],
   "source": [
    "response: ChatResponse = chat(\n",
    "                                model='llama3.2:3b-instruct-q8_0', \n",
    "                                # options= {\"temperature\":0.1}, \n",
    "                                messages=[\n",
    "                                              {\n",
    "                                                'role': 'user',\n",
    "                                                'content': prompt,\n",
    "                                              },\n",
    "                                        ])\n",
    "# print(response['message']['content'])\n",
    "# or access fields directly from the response object\n",
    "print(response.message.content)"
   ]
  },
  {
   "cell_type": "code",
   "execution_count": 160,
   "id": "169bfea3-553a-4383-8ef4-9b8690c3c64c",
   "metadata": {},
   "outputs": [
    {
     "data": {
      "text/plain": [
       "'- **Key Information**:\\n  - Neha Gaonkar\\n  - Lloyds Banking Group\\n  - Birmingham City University\\n  - Bicholim GOA\\n  - GEC Engico\\n  - GEC Foundation\\n  - IEEE Xplore\\n  - Keshav Seva Sadhana School \\n  - SDM College Medical Sciences\\n  - Rosary Higher Secondary School\\n  - Cornell Tech\\n  - Artificial Intelligence'"
      ]
     },
     "execution_count": 160,
     "metadata": {},
     "output_type": "execute_result"
    }
   ],
   "source": [
    "response.message.content"
   ]
  },
  {
   "cell_type": "code",
   "execution_count": 164,
   "id": "4b375e96-7b63-44d9-bbe9-ae2dade96950",
   "metadata": {},
   "outputs": [],
   "source": [
    "prompt_2 = f\"\"\"\n",
    "The following is extracted data from a webpage:\n",
    "\n",
    "{response.message.content}\n",
    "\n",
    "Task:\n",
    "1. Clean the text.\n",
    "2. Remove duplicate information.\n",
    "3. DO NOT ADD summary.\n",
    "4. DO NOT ADD extra information.\n",
    "5. Enclose each product into: ``` ```.\n",
    "\n",
    "Format your response as (In a markdown format, use divider to separate different items):\n",
    "- **Products Details**: [List all the products and their information available in the text]\n",
    "\"\"\""
   ]
  },
  {
   "cell_type": "code",
   "execution_count": null,
   "id": "5407852a-1713-4841-b4d5-5d855984134f",
   "metadata": {},
   "outputs": [],
   "source": []
  },
  {
   "cell_type": "code",
   "execution_count": 165,
   "id": "e95d4769-56a7-43d8-9150-cb168a02a489",
   "metadata": {},
   "outputs": [
    {
     "name": "stdout",
     "output_type": "stream",
     "text": [
      "- **Cleaned Text**:\n",
      "  - Neha Gaonkar\n",
      "  - Lloyds Banking Group\n",
      "  - Birmingham City University\n",
      "  - Bicholim GOA\n",
      "  - GEC Engico\n",
      "  - GEC Foundation\n",
      "  - IEEE Xplore\n",
      "  - Keshav Seva Sadhana School \n",
      "  - SDM College Medical Sciences\n",
      "  - Rosary Higher Secondary School\n",
      "  - Cornell Tech\n",
      "  - Artificial Intelligence\n",
      "\n",
      "- **Duplicate Information Removal**:\n",
      "\n",
      "  - Neha Gaonkar\n",
      "  - Lloyds Banking Group\n",
      "  - Birmingham City University\n",
      "  - Bicholim GOA\n",
      "  - GEC Engico\n",
      "  - GEC Foundation\n",
      "  - IEEE Xplore\n",
      "  - Keshav Seva Sadhana School \n",
      "  - SDM College Medical Sciences\n",
      "  - Rosary Higher Secondary School\n",
      "  - Cornell Tech\n",
      "\n",
      "- **Products Details**:\n",
      "  ``` Neha Gaonkar ``` \n",
      "  ``` Lloyds Banking Group ``` \n",
      "  ``` Birmingham City University ``` \n",
      "  ``` Bicholim GOA ``` \n",
      "  ``` GEC Engico ``` \n",
      "  ``` GEC Foundation ``` \n",
      "  ``` IEEE Xplore ``` \n",
      "  ``` Keshav Seva Sadhana School ``` \n",
      "  ``` SDM College Medical Sciences ``` \n",
      "  ``` Rosary Higher Secondary School ``` \n",
      "  ``` Cornell Tech ```\n",
      "  ``` Artificial Intelligence ```"
     ]
    }
   ],
   "source": [
    "from ollama import chat\n",
    "\n",
    "stream = chat(\n",
    "    model='llama3.2:3b-instruct-q8_0',\n",
    "    # options = {'temperature': 0.5},\n",
    "    messages=[{'role': 'user', 'content': prompt_2}],\n",
    "    stream=True,\n",
    ")\n",
    "\n",
    "for chunk in stream:\n",
    "  print(chunk['message']['content'], end='', flush=True)"
   ]
  },
  {
   "cell_type": "code",
   "execution_count": null,
   "id": "22f9e1cd-4797-4e77-b4d6-8d79b715de47",
   "metadata": {},
   "outputs": [],
   "source": []
  },
  {
   "cell_type": "code",
   "execution_count": null,
   "id": "2631bdf8-6545-46fc-8955-6a3c8dc19e13",
   "metadata": {},
   "outputs": [],
   "source": [
    "prompt_3 = f\"\"\"\n",
    "The following is extracted data from a webpage:\n",
    "\n",
    "{response.message.content}\n",
    "\n",
    "Task:\n",
    "1. \n",
    "2. Remove duplicate information.\n",
    "3. DO NOT ADD summary.\n",
    "4. DO NOT ADD extra information.\n",
    "\n",
    "Format your response as (In a markdown format, use divider to separate different items):\n",
    "- **Products Details**: [List all the products and their information available in the text]\n",
    "\"\"\""
   ]
  }
 ],
 "metadata": {
  "kernelspec": {
   "display_name": "Python 3 (ipykernel)",
   "language": "python",
   "name": "python3"
  },
  "language_info": {
   "codemirror_mode": {
    "name": "ipython",
    "version": 3
   },
   "file_extension": ".py",
   "mimetype": "text/x-python",
   "name": "python",
   "nbconvert_exporter": "python",
   "pygments_lexer": "ipython3",
   "version": "3.12.6"
  }
 },
 "nbformat": 4,
 "nbformat_minor": 5
}
