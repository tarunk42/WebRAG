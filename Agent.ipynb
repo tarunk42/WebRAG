{
 "cells": [
  {
   "cell_type": "code",
   "execution_count": 83,
   "id": "49ac0937-0c95-4240-9389-3306377a570c",
   "metadata": {},
   "outputs": [
    {
     "name": "stdout",
     "output_type": "stream",
     "text": [
      "The sky appears blue because of a phenomenon called Rayleigh scattering, named after the British physicist Lord Rayleigh. He discovered that when sunlight enters Earth's atmosphere, it encounters tiny molecules of gases such as nitrogen (N2) and oxygen (O2). These molecules scatter the light in all directions, but they scatter shorter (blue) wavelengths more than longer (red) wavelengths.\n",
      "\n",
      "Here's a simplified explanation:\n",
      "\n",
      "1. **Sunlight enters the atmosphere**: The sun emits white light, which is made up of all the colors of the visible spectrum.\n",
      "2. **Light interacts with atmospheric molecules**: When sunlight hits the tiny molecules in the air, it scatters in all directions.\n",
      "3. **Molecules scatter shorter wavelengths more**: The smaller molecules (like nitrogen and oxygen) are more effective at scattering the shorter wavelengths of light, such as blue and violet.\n",
      "4. **Blue light is scattered in all directions**: As a result, the blue light is dispersed throughout the atmosphere, reaching our eyes from all parts of the sky.\n",
      "5. **Our eyes perceive the blue color**: When we look up at the sky, we see the scattered blue light, which gives the sky its characteristic blue color.\n",
      "\n",
      "The reason the sky isn't always blue is that other factors can affect the amount of sunlight that reaches our eyes:\n",
      "\n",
      "* **Atmospheric conditions**: Dust, pollution, and water vapor in the air can scatter light in different ways, changing the apparent color of the sky.\n",
      "* **Time of day**: During sunrise and sunset, the sun's rays have to travel through more of the atmosphere, which scatters the shorter wavelengths even more, making the sky appear red or orange.\n",
      "* **Clouds and weather**: Clouds can block or scatter sunlight, altering the apparent color of the sky.\n",
      "\n",
      "So, in summary, the sky appears blue because of the scattering of sunlight by tiny molecules in the Earth's atmosphere, with a preference for shorter (blue) wavelengths.\n",
      "The sky appears blue because of a phenomenon called Rayleigh scattering, named after the British physicist Lord Rayleigh. He discovered that when sunlight enters Earth's atmosphere, it encounters tiny molecules of gases such as nitrogen (N2) and oxygen (O2). These molecules scatter the light in all directions, but they scatter shorter (blue) wavelengths more than longer (red) wavelengths.\n",
      "\n",
      "Here's a simplified explanation:\n",
      "\n",
      "1. **Sunlight enters the atmosphere**: The sun emits white light, which is made up of all the colors of the visible spectrum.\n",
      "2. **Light interacts with atmospheric molecules**: When sunlight hits the tiny molecules in the air, it scatters in all directions.\n",
      "3. **Molecules scatter shorter wavelengths more**: The smaller molecules (like nitrogen and oxygen) are more effective at scattering the shorter wavelengths of light, such as blue and violet.\n",
      "4. **Blue light is scattered in all directions**: As a result, the blue light is dispersed throughout the atmosphere, reaching our eyes from all parts of the sky.\n",
      "5. **Our eyes perceive the blue color**: When we look up at the sky, we see the scattered blue light, which gives the sky its characteristic blue color.\n",
      "\n",
      "The reason the sky isn't always blue is that other factors can affect the amount of sunlight that reaches our eyes:\n",
      "\n",
      "* **Atmospheric conditions**: Dust, pollution, and water vapor in the air can scatter light in different ways, changing the apparent color of the sky.\n",
      "* **Time of day**: During sunrise and sunset, the sun's rays have to travel through more of the atmosphere, which scatters the shorter wavelengths even more, making the sky appear red or orange.\n",
      "* **Clouds and weather**: Clouds can block or scatter sunlight, altering the apparent color of the sky.\n",
      "\n",
      "So, in summary, the sky appears blue because of the scattering of sunlight by tiny molecules in the Earth's atmosphere, with a preference for shorter (blue) wavelengths.\n"
     ]
    }
   ],
   "source": [
    "# from ollama import chat\n",
    "# from ollama import ChatResponse\n",
    "\n",
    "# response: ChatResponse = chat(model='llama3.2:3b-instruct-q8_0', options= {\"temperature\":0.1}, messages=[\n",
    "#   {\n",
    "#     'role': 'user',\n",
    "#     'content': 'Why is the sky blue?',\n",
    "#   },\n",
    "# ])\n",
    "# print(response['message']['content'])\n",
    "# # or access fields directly from the response object\n",
    "# print(response.message.content)"
   ]
  },
  {
   "cell_type": "code",
   "execution_count": 13,
   "id": "35d1dc28-ef47-44cf-9f29-a1a6104f6033",
   "metadata": {},
   "outputs": [],
   "source": [
    "# from ollama import chat\n",
    "\n",
    "# stream = chat(\n",
    "#     model='llama3.2:3b-instruct-q8_0',\n",
    "#     messages=[{'role': 'user', 'content': 'Why is the sky blue?'}],\n",
    "#     stream=True,\n",
    "# )\n",
    "\n",
    "# for chunk in stream:\n",
    "#   print(chunk['message']['content'], end='', flush=True)"
   ]
  },
  {
   "cell_type": "code",
   "execution_count": 76,
   "id": "64fda29f-08e5-4d52-8726-075b7c8bf528",
   "metadata": {},
   "outputs": [],
   "source": [
    "import json\n",
    "\n",
    "# Load the JSON file\n",
    "with open('page_test8.json', 'r') as file:\n",
    "    data = json.load(file)\n",
    "\n",
    "# Extract a single page entry for demonstration\n",
    "single_page = data[10]  # Example: Access the third page in the list"
   ]
  },
  {
   "cell_type": "code",
   "execution_count": 59,
   "id": "05f052e9-fdd9-49e7-b5bc-6d080a51f831",
   "metadata": {},
   "outputs": [
    {
     "data": {
      "text/plain": [
       "13"
      ]
     },
     "execution_count": 59,
     "metadata": {},
     "output_type": "execute_result"
    }
   ],
   "source": [
    "len(data)"
   ]
  },
  {
   "cell_type": "code",
   "execution_count": 79,
   "id": "cdd55f1b-342d-4c3a-974a-6a56a70f6ef5",
   "metadata": {},
   "outputs": [],
   "source": [
    "# data[10]"
   ]
  },
  {
   "cell_type": "code",
   "execution_count": 64,
   "id": "f7b06664-26bd-46d9-b275-28593eb4c0bf",
   "metadata": {},
   "outputs": [],
   "source": [
    "# # Clean and structure the data\n",
    "# processed_data = {\n",
    "#     \"url\": single_page.get(\"url\", \"\"),\n",
    "#     \"title\": single_page.get(\"title\", \"\"),\n",
    "#     \"text\": single_page.get(\"text\", \"\")\n",
    "# }\n",
    "\n",
    "# # Convert to a prompt for the LLM\n",
    "# # prompt = f\"\"\"\n",
    "# # URL: {processed_data['url']}\n",
    "# # Title: {processed_data['title']}\n",
    "# # Text Content: {processed_data['text']}\n",
    "# # Please provide a detailed summary and key insights.\n",
    "# # \"\"\"\n",
    "\n",
    "# prompt = f\"\"\"\n",
    "# The following is extracted data from a webpage:\n",
    "\n",
    "# URL: {processed_data['url']}\n",
    "# Title: {processed_data['title']}\n",
    "# Text Content: {processed_data['text']}\n",
    "\n",
    "# Task:\n",
    "# 1. Extract key information directly mentioned in the text, avoiding assumptions or unrelated additions.\n",
    "# 2. DO NOT ADD summary\n",
    "\n",
    "# Format your response as:\n",
    "# - **Products Details**: [List all the products and their information available in the text]\n",
    "# \"\"\""
   ]
  },
  {
   "cell_type": "code",
   "execution_count": 77,
   "id": "2cb67112-4a4b-4e31-acef-ae2ce68358d1",
   "metadata": {},
   "outputs": [],
   "source": [
    "# Clean and structure the data\n",
    "processed_data = {\n",
    "    \"url\": single_page.get(\"url\", \"\"),\n",
    "    \"title\": single_page.get(\"title\", \"\"),\n",
    "    \"text\": single_page.get(\"text\", \"\")\n",
    "}\n",
    "\n",
    "# Convert to a prompt for the LLM\n",
    "# prompt = f\"\"\"\n",
    "# URL: {processed_data['url']}\n",
    "# Title: {processed_data['title']}\n",
    "# Text Content: {processed_data['text']}\n",
    "# Please provide a detailed summary and key insights.\n",
    "# \"\"\"\n",
    "\n",
    "prompt = f\"\"\"\n",
    "The following is extracted data from a webpage:\n",
    "\n",
    "URL: {processed_data['url']}\n",
    "Title: {processed_data['title']}\n",
    "Text Content: {processed_data['text']}\n",
    "\n",
    "Task:\n",
    "1. Extract key information directly mentioned in the text, avoiding assumptions or unrelated additions.\n",
    "2. DO NOT ADD summary\n",
    "\n",
    "Format your response as (In a markdown format, use divider to separate different items):\n",
    "- **Products Details**: [List all the products and their information available in the text]\n",
    "\"\"\""
   ]
  },
  {
   "cell_type": "code",
   "execution_count": 90,
   "id": "5eaef194-0639-47e7-9c0c-84a2c2cd5e8e",
   "metadata": {
    "scrolled": true
   },
   "outputs": [
    {
     "name": "stdout",
     "output_type": "stream",
     "text": [
      "- **Products Details**\n",
      "  - Braun Series 5 Hair Clippers\n",
      "    - 40 Length Settings\n",
      "    - Rechargeable Cordless\n",
      "    - Runtime Waterproof\n",
      "    - Gifts Men BT5440 Silver Black £53.99\n",
      "    - RRP £67.49\n",
      "  - Braun Trimmer Series 5 Male Grooming Kit\n",
      "    - Beard Trimmer Hair Clippers Ear Nose Trimmer Gillette Razor 7 Attachments Gifts Men UK 2 Pin Plug MGK5280 Razor\n",
      "    - Price £43.90\n",
      "  - Braun Series 3 Male Grooming Kit\n",
      "    - Beard Trimmer Hair Clippers Gillette Razor Precision Trimmer 5 Attachments Gifts Men UK 2 Pin Plug MGK3245 Razor\n",
      "    - Price £31.95\n",
      "    - RRP £44.99\n",
      "  - Braun Beard Trimmer Series 5 Hair Clippers\n",
      "    - 40 Length Settings\n",
      "    - Rechargeable Cordless Runtime Waterproof Gifts Men BT5440 Silver Black 560\n",
      "    - Price £53.99\n",
      "    - RRP £67.49\n",
      "  - Braun Trimmer Series 5 Male Grooming Kit \n",
      "    - Beard Trimmer Hair Clippers Gillette Razor Precision Trimmer 5 Attachments Gifts Men UK 2 Pin Plug MGK5280 Razor\n",
      "    - Price £43.90\n",
      "  - Braun Series 3 Male Grooming Kit\n",
      "    - Beard Trimmer Hair Clippers Gillette Razor Precision Trimmer 5 Attachments Gifts Men UK 2 Pin Plug MGK3245 Razor\n",
      "    - Price £31.95\n",
      "    - RRP £44.99\n",
      "  - BaByliss\n",
      "    - See Recommended Uses \n",
      "  - PHILIPS\n",
      "    - Braun Shavers Men PHILIPS Hair Clippers\n",
      "      - 40 Length Settings Rechargeable Waterproof Charge Indicator Light Detachable Detachable Head Ergonomic Fast Charge Gifts Men BT5440 Silver Black 560\n",
      "      - Price £53.99\n",
      "      - RRP £67.49\n",
      "    - See Special Features \n",
      "  - Hatteker Professional Hair Clipper Cordless Clippers Hair Trimmer Beard Trimmer Shaver Detail Trimmer Hair Cutting Kit Men Waterproof\n",
      "    - Price £39.99\n",
      "    - Save £6.00 voucher\n",
      "  - Surker Beard Trimmer Kit Professional Hair Clipper Trimmer Zero Gapped Trimmer Electric Shaver Razor Nose Body Trimmer Men Cordless Grooming Kit 7 \n",
      "    - Price £36.99\n",
      "    - Save £7.00 voucher\n",
      "  - Braun Series 5 Male Grooming Kit Beard Trimmer Hair Clippers Ear Nose Trimmer Gillette Razor 7 Attachments Gifts Men UK 2 Pin Plug MGK5280 Razor\n",
      "    - Price £43.90\n",
      "  - Braun Shavers Men PHILIPS Hair Clippers \n",
      "    - 40 Length Settings Rechargeable Waterproof Charge Indicator Light Detachable Detachable Head Ergonomic Fast Charge Gifts Men BT5440 Silver Black 560\n",
      "    - Price £53.99\n",
      "    - RRP £67.49"
     ]
    }
   ],
   "source": [
    "from ollama import chat\n",
    "\n",
    "stream = chat(\n",
    "    model='llama3.2:3b-instruct-q8_0',\n",
    "    options = {'temperature': 0.5},\n",
    "    messages=[{'role': 'user', 'content': prompt}],\n",
    "    stream=True,\n",
    ")\n",
    "\n",
    "for chunk in stream:\n",
    "  print(chunk['message']['content'], end='', flush=True)"
   ]
  },
  {
   "cell_type": "markdown",
   "id": "a33e81fe-fa84-4676-a90c-9c61d90f02c7",
   "metadata": {},
   "source": [
    "## Step 2"
   ]
  },
  {
   "cell_type": "code",
   "execution_count": 91,
   "id": "f3ab97d7-7f3d-41d0-81df-d14c62a7cab3",
   "metadata": {},
   "outputs": [
    {
     "name": "stdout",
     "output_type": "stream",
     "text": [
      "- **Products Details**:\n",
      "  - Braun Series 5 Hair Clippers\n",
      "    - 40 Length Settings\n",
      "    - Rechargeable Cordless Runtime Waterproof Gifts Men BT5440 Silver Black £53.99\n",
      "  - Braun Trimmer Series 5 Male Grooming Kit\n",
      "    - Beard Trimmer\n",
      "    - Hair Clippers\n",
      "    - Ear Nose Trimmer Gillette Razor 7 Attachments Gifts Men UK 2 Pin Plug MGK5280 Razor £43.90\n",
      "  - Braun Series 3 Male Grooming Kit\n",
      "    - Beard Trimmer\n",
      "    - Hair Clippers\n",
      "    - Gillette Razor Precision Trimmer 5 Attachments Gifts Men UK 2 Pin Plug MGK3245 Razor £31.95\n",
      "  - Hatteker Professional Hair Clipper Cordless Clippers Hair Trimmer Beard Trimmer Shaver Detail Trimmer Hair Cutting Kit Men Waterproof £39.99\n",
      "  - Braun Trimmer Series 5 Male Grooming Kit\n",
      "    - Beard Trimmer\n",
      "    - Hair Clippers\n",
      "    - Ear Nose Trimmer Gillette Razor 7 Attachments Gifts Men UK 2 Pin Plug MGK5280 Razor £43.90\n",
      "  - Surker Beard Trimmer Kit\n",
      "    - Professional Hair Clipper Trimmer Zero Gapped Trimmer Electric Shaver Razor Nose Body Trimmer Men Cordless Grooming Kit 7 1 £36.99\n",
      "  - Braun Series 3 Male Grooming Kit\n",
      "    - Beard Trimmer\n",
      "    - Hair Clippers\n",
      "    - Gillette Razor Precision Trimmer 5 Attachments Gifts Men UK 2 Pin Plug MGK3245 Razor £31.95\n",
      "  - PHILIPS Hair Clippers\n",
      "    - 40 Length Settings\n",
      "    - Rechargeable Waterproof Charge Indicator Light Detachable Detachable Head Ergonomic Fast Charge \n",
      "  - Braun Series 5 Male Grooming Kit\n",
      "    - Beard Trimmer\n",
      "    - Hair Clippers\n",
      "    - Gillette Razor Precision Trimmer 7 Attachments Gifts Men UK 2 Pin Plug MGK5280 Razor £43.90\n",
      "  - PHILIPS Shavers Men\n",
      "    - Trimmer \n",
      "    - Trimmers Men phillips shavers men trimmer trimmers men beard trimmer men private parts trimmer women\n",
      "  - Braun Series 5 Hair Clippers\n",
      "    - 40 Length Settings\n",
      "    - Rechargeable Cordless Runtime Waterproof Gifts Men BT5440 Silver Black £53.99\n",
      "- **Products Details**:\n",
      "  - Braun Series 5 Hair Clippers\n",
      "    - 40 Length Settings\n",
      "    - Rechargeable Cordless Runtime Waterproof Gifts Men BT5440 Silver Black £53.99\n",
      "  - Braun Trimmer Series 5 Male Grooming Kit\n",
      "    - Beard Trimmer\n",
      "    - Hair Clippers\n",
      "    - Ear Nose Trimmer Gillette Razor 7 Attachments Gifts Men UK 2 Pin Plug MGK5280 Razor £43.90\n",
      "  - Braun Series 3 Male Grooming Kit\n",
      "    - Beard Trimmer\n",
      "    - Hair Clippers\n",
      "    - Gillette Razor Precision Trimmer 5 Attachments Gifts Men UK 2 Pin Plug MGK3245 Razor £31.95\n",
      "  - Hatteker Professional Hair Clipper Cordless Clippers Hair Trimmer Beard Trimmer Shaver Detail Trimmer Hair Cutting Kit Men Waterproof £39.99\n",
      "  - Braun Trimmer Series 5 Male Grooming Kit\n",
      "    - Beard Trimmer\n",
      "    - Hair Clippers\n",
      "    - Ear Nose Trimmer Gillette Razor 7 Attachments Gifts Men UK 2 Pin Plug MGK5280 Razor £43.90\n",
      "  - Surker Beard Trimmer Kit\n",
      "    - Professional Hair Clipper Trimmer Zero Gapped Trimmer Electric Shaver Razor Nose Body Trimmer Men Cordless Grooming Kit 7 1 £36.99\n",
      "  - Braun Series 3 Male Grooming Kit\n",
      "    - Beard Trimmer\n",
      "    - Hair Clippers\n",
      "    - Gillette Razor Precision Trimmer 5 Attachments Gifts Men UK 2 Pin Plug MGK3245 Razor £31.95\n",
      "  - PHILIPS Hair Clippers\n",
      "    - 40 Length Settings\n",
      "    - Rechargeable Waterproof Charge Indicator Light Detachable Detachable Head Ergonomic Fast Charge \n",
      "  - Braun Series 5 Male Grooming Kit\n",
      "    - Beard Trimmer\n",
      "    - Hair Clippers\n",
      "    - Gillette Razor Precision Trimmer 7 Attachments Gifts Men UK 2 Pin Plug MGK5280 Razor £43.90\n",
      "  - PHILIPS Shavers Men\n",
      "    - Trimmer \n",
      "    - Trimmers Men phillips shavers men trimmer trimmers men beard trimmer men private parts trimmer women\n",
      "  - Braun Series 5 Hair Clippers\n",
      "    - 40 Length Settings\n",
      "    - Rechargeable Cordless Runtime Waterproof Gifts Men BT5440 Silver Black £53.99\n"
     ]
    }
   ],
   "source": [
    "response: ChatResponse = chat(\n",
    "                                model='llama3.2:3b-instruct-q8_0', \n",
    "                                # options= {\"temperature\":0.1}, \n",
    "                                messages=[\n",
    "                                              {\n",
    "                                                'role': 'user',\n",
    "                                                'content': prompt,\n",
    "                                              },\n",
    "                                        ])\n",
    "# print(response['message']['content'])\n",
    "# or access fields directly from the response object\n",
    "print(response.message.content)"
   ]
  },
  {
   "cell_type": "code",
   "execution_count": 97,
   "id": "169bfea3-553a-4383-8ef4-9b8690c3c64c",
   "metadata": {},
   "outputs": [
    {
     "data": {
      "text/plain": [
       "'- **Products Details**:\\n  - Braun Series 5 Hair Clippers\\n    - 40 Length Settings\\n    - Rechargeable Cordless Runtime Waterproof Gifts Men BT5440 Silver Black £53.99\\n  - Braun Trimmer Series 5 Male Grooming Kit\\n    - Beard Trimmer\\n    - Hair Clippers\\n    - Ear Nose Trimmer Gillette Razor 7 Attachments Gifts Men UK 2 Pin Plug MGK5280 Razor £43.90\\n  - Braun Series 3 Male Grooming Kit\\n    - Beard Trimmer\\n    - Hair Clippers\\n    - Gillette Razor Precision Trimmer 5 Attachments Gifts Men UK 2 Pin Plug MGK3245 Razor £31.95\\n  - Hatteker Professional Hair Clipper Cordless Clippers Hair Trimmer Beard Trimmer Shaver Detail Trimmer Hair Cutting Kit Men Waterproof £39.99\\n  - Braun Trimmer Series 5 Male Grooming Kit\\n    - Beard Trimmer\\n    - Hair Clippers\\n    - Ear Nose Trimmer Gillette Razor 7 Attachments Gifts Men UK 2 Pin Plug MGK5280 Razor £43.90\\n  - Surker Beard Trimmer Kit\\n    - Professional Hair Clipper Trimmer Zero Gapped Trimmer Electric Shaver Razor Nose Body Trimmer Men Cordless Grooming Kit 7 1 £36.99\\n  - Braun Series 3 Male Grooming Kit\\n    - Beard Trimmer\\n    - Hair Clippers\\n    - Gillette Razor Precision Trimmer 5 Attachments Gifts Men UK 2 Pin Plug MGK3245 Razor £31.95\\n  - PHILIPS Hair Clippers\\n    - 40 Length Settings\\n    - Rechargeable Waterproof Charge Indicator Light Detachable Detachable Head Ergonomic Fast Charge \\n  - Braun Series 5 Male Grooming Kit\\n    - Beard Trimmer\\n    - Hair Clippers\\n    - Gillette Razor Precision Trimmer 7 Attachments Gifts Men UK 2 Pin Plug MGK5280 Razor £43.90\\n  - PHILIPS Shavers Men\\n    - Trimmer \\n    - Trimmers Men phillips shavers men trimmer trimmers men beard trimmer men private parts trimmer women\\n  - Braun Series 5 Hair Clippers\\n    - 40 Length Settings\\n    - Rechargeable Cordless Runtime Waterproof Gifts Men BT5440 Silver Black £53.99'"
      ]
     },
     "execution_count": 97,
     "metadata": {},
     "output_type": "execute_result"
    }
   ],
   "source": [
    "response.message.content"
   ]
  },
  {
   "cell_type": "code",
   "execution_count": 109,
   "id": "4b375e96-7b63-44d9-bbe9-ae2dade96950",
   "metadata": {},
   "outputs": [],
   "source": [
    "prompt_2 = f\"\"\"\n",
    "The following is extracted data from a webpage:\n",
    "\n",
    "{response.message.content}\n",
    "\n",
    "Task:\n",
    "1. Clean the text.\n",
    "2. Remove duplicate information.\n",
    "3. DO NOT ADD summary.\n",
    "4. DO NOT ADD extra information.\n",
    "5. Enclose each product into: ``` ```.\n",
    "\n",
    "Format your response as (In a markdown format, use divider to separate different items):\n",
    "- **Products Details**: [List all the products and their information available in the text]\n",
    "\"\"\""
   ]
  },
  {
   "cell_type": "code",
   "execution_count": null,
   "id": "5407852a-1713-4841-b4d5-5d855984134f",
   "metadata": {},
   "outputs": [],
   "source": []
  },
  {
   "cell_type": "code",
   "execution_count": 111,
   "id": "e95d4769-56a7-43d8-9150-cb168a02a489",
   "metadata": {},
   "outputs": [
    {
     "name": "stdout",
     "output_type": "stream",
     "text": [
      "- **Products Details**\n",
      "  - Braun Series 5 Hair Clippers\n",
      "    - 40 Length Settings\n",
      "    - Rechargeable Cordless Runtime Waterproof Gifts Men BT5440 Silver Black £53.99\n",
      "  - Braun Trimmer Series 5 Male Grooming Kit\n",
      "    - Beard Trimmer\n",
      "    - Hair Clippers\n",
      "    - Ear Nose Trimmer Gillette Razor 7 Attachments Gifts Men UK 2 Pin Plug MGK5280 Razor £43.90\n",
      "  - Braun Series 3 Male Grooming Kit\n",
      "    - Beard Trimmer\n",
      "    - Hair Clippers\n",
      "    - Gillette Razor Precision Trimmer 5 Attachments Gifts Men UK 2 Pin Plug MGK3245 Razor £31.95\n",
      "  - Hatteker Professional Hair Clipper Cordless Clippers Hair Trimmer Beard Trimmer Shaver Detail Trimmer Hair Cutting Kit Men Waterproof £39.99\n",
      "  - Surker Beard Trimmer Kit\n",
      "    - Professional Hair Clipper Trimmer Zero Gapped Trimmer Electric Shaver Razor Nose Body Trimmer Men Cordless Grooming Kit 7 1 £36.99\n",
      "  - PHILIPS Hair Clippers\n",
      "    - 40 Length Settings\n",
      "    - Rechargeable Waterproof Charge Indicator Light Detachable Detachable Head Ergonomic Fast Charge \n",
      "  - Braun Series 5 Male Grooming Kit\n",
      "    - Beard Trimmer\n",
      "    - Hair Clippers\n",
      "    - Gillette Razor Precision Trimmer 7 Attachments Gifts Men UK 2 Pin Plug MGK5280 Razor £43.90"
     ]
    }
   ],
   "source": [
    "from ollama import chat\n",
    "\n",
    "stream = chat(\n",
    "    model='llama3.2:3b-instruct-q8_0',\n",
    "    # options = {'temperature': 0.5},\n",
    "    messages=[{'role': 'user', 'content': prompt_2}],\n",
    "    stream=True,\n",
    ")\n",
    "\n",
    "for chunk in stream:\n",
    "  print(chunk['message']['content'], end='', flush=True)"
   ]
  },
  {
   "cell_type": "code",
   "execution_count": null,
   "id": "22f9e1cd-4797-4e77-b4d6-8d79b715de47",
   "metadata": {},
   "outputs": [],
   "source": []
  },
  {
   "cell_type": "code",
   "execution_count": null,
   "id": "2631bdf8-6545-46fc-8955-6a3c8dc19e13",
   "metadata": {},
   "outputs": [],
   "source": [
    "prompt_3 = f\"\"\"\n",
    "The following is extracted data from a webpage:\n",
    "\n",
    "{response.message.content}\n",
    "\n",
    "Task:\n",
    "1. \n",
    "2. Remove duplicate information.\n",
    "3. DO NOT ADD summary.\n",
    "4. DO NOT ADD extra information.\n",
    "\n",
    "Format your response as (In a markdown format, use divider to separate different items):\n",
    "- **Products Details**: [List all the products and their information available in the text]\n",
    "\"\"\""
   ]
  }
 ],
 "metadata": {
  "kernelspec": {
   "display_name": "Python 3 (ipykernel)",
   "language": "python",
   "name": "python3"
  },
  "language_info": {
   "codemirror_mode": {
    "name": "ipython",
    "version": 3
   },
   "file_extension": ".py",
   "mimetype": "text/x-python",
   "name": "python",
   "nbconvert_exporter": "python",
   "pygments_lexer": "ipython3",
   "version": "3.12.6"
  }
 },
 "nbformat": 4,
 "nbformat_minor": 5
}
